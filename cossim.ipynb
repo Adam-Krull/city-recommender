{
 "cells": [
  {
   "cell_type": "code",
   "execution_count": 1,
   "metadata": {},
   "outputs": [],
   "source": [
    "import numpy as np\n",
    "import pandas as pd\n",
    "\n",
    "from itertools import combinations\n",
    "from sklearn.preprocessing import MinMaxScaler"
   ]
  },
  {
   "cell_type": "code",
   "execution_count": 2,
   "metadata": {},
   "outputs": [
    {
     "data": {
      "text/html": [
       "<div>\n",
       "<style scoped>\n",
       "    .dataframe tbody tr th:only-of-type {\n",
       "        vertical-align: middle;\n",
       "    }\n",
       "\n",
       "    .dataframe tbody tr th {\n",
       "        vertical-align: top;\n",
       "    }\n",
       "\n",
       "    .dataframe thead th {\n",
       "        text-align: right;\n",
       "    }\n",
       "</style>\n",
       "<table border=\"1\" class=\"dataframe\">\n",
       "  <thead>\n",
       "    <tr style=\"text-align: right;\">\n",
       "      <th></th>\n",
       "      <th>City</th>\n",
       "      <th>State</th>\n",
       "      <th>Population</th>\n",
       "      <th>Percent employed</th>\n",
       "      <th>Occupation (MBSA)</th>\n",
       "      <th>Occupation (S)</th>\n",
       "      <th>Occupation (SO)</th>\n",
       "      <th>Occupation (RCM)</th>\n",
       "      <th>Occupation (PT)</th>\n",
       "      <th>Median household income</th>\n",
       "      <th>Homeownership rate</th>\n",
       "      <th>Median home price</th>\n",
       "      <th>Median rent</th>\n",
       "      <th>KMeans</th>\n",
       "      <th>Hierarchical</th>\n",
       "    </tr>\n",
       "  </thead>\n",
       "  <tbody>\n",
       "    <tr>\n",
       "      <th>0</th>\n",
       "      <td>Acres Green, Colorado</td>\n",
       "      <td>Colorado</td>\n",
       "      <td>2709.0</td>\n",
       "      <td>72.7</td>\n",
       "      <td>61.9</td>\n",
       "      <td>11.9</td>\n",
       "      <td>12.5</td>\n",
       "      <td>8.5</td>\n",
       "      <td>5.2</td>\n",
       "      <td>115536.0</td>\n",
       "      <td>77.4</td>\n",
       "      <td>540000.0</td>\n",
       "      <td>2663.0</td>\n",
       "      <td>0</td>\n",
       "      <td>3</td>\n",
       "    </tr>\n",
       "    <tr>\n",
       "      <th>1</th>\n",
       "      <td>Aetna Estates, Colorado</td>\n",
       "      <td>Colorado</td>\n",
       "      <td>1177.0</td>\n",
       "      <td>72.4</td>\n",
       "      <td>12.5</td>\n",
       "      <td>27.3</td>\n",
       "      <td>31.8</td>\n",
       "      <td>17.0</td>\n",
       "      <td>11.4</td>\n",
       "      <td>63887.0</td>\n",
       "      <td>34.3</td>\n",
       "      <td>58200.0</td>\n",
       "      <td>1490.0</td>\n",
       "      <td>8</td>\n",
       "      <td>4</td>\n",
       "    </tr>\n",
       "    <tr>\n",
       "      <th>2</th>\n",
       "      <td>Akron, Colorado</td>\n",
       "      <td>Colorado</td>\n",
       "      <td>1681.0</td>\n",
       "      <td>55.4</td>\n",
       "      <td>40.5</td>\n",
       "      <td>19.3</td>\n",
       "      <td>21.5</td>\n",
       "      <td>13.2</td>\n",
       "      <td>5.5</td>\n",
       "      <td>59470.0</td>\n",
       "      <td>70.4</td>\n",
       "      <td>186500.0</td>\n",
       "      <td>1070.0</td>\n",
       "      <td>5</td>\n",
       "      <td>0</td>\n",
       "    </tr>\n",
       "    <tr>\n",
       "      <th>3</th>\n",
       "      <td>Alamosa, Colorado</td>\n",
       "      <td>Colorado</td>\n",
       "      <td>9847.0</td>\n",
       "      <td>61.8</td>\n",
       "      <td>34.7</td>\n",
       "      <td>20.7</td>\n",
       "      <td>26.5</td>\n",
       "      <td>6.6</td>\n",
       "      <td>11.4</td>\n",
       "      <td>46969.0</td>\n",
       "      <td>43.8</td>\n",
       "      <td>200200.0</td>\n",
       "      <td>881.0</td>\n",
       "      <td>8</td>\n",
       "      <td>4</td>\n",
       "    </tr>\n",
       "    <tr>\n",
       "      <th>4</th>\n",
       "      <td>Alamosa East, Colorado</td>\n",
       "      <td>Colorado</td>\n",
       "      <td>1404.0</td>\n",
       "      <td>68.4</td>\n",
       "      <td>34.9</td>\n",
       "      <td>29.7</td>\n",
       "      <td>17.9</td>\n",
       "      <td>9.1</td>\n",
       "      <td>8.4</td>\n",
       "      <td>44741.0</td>\n",
       "      <td>68.5</td>\n",
       "      <td>219100.0</td>\n",
       "      <td>1100.0</td>\n",
       "      <td>3</td>\n",
       "      <td>4</td>\n",
       "    </tr>\n",
       "  </tbody>\n",
       "</table>\n",
       "</div>"
      ],
      "text/plain": [
       "                      City     State  Population  Percent employed  \\\n",
       "0    Acres Green, Colorado  Colorado      2709.0              72.7   \n",
       "1  Aetna Estates, Colorado  Colorado      1177.0              72.4   \n",
       "2          Akron, Colorado  Colorado      1681.0              55.4   \n",
       "3        Alamosa, Colorado  Colorado      9847.0              61.8   \n",
       "4   Alamosa East, Colorado  Colorado      1404.0              68.4   \n",
       "\n",
       "   Occupation (MBSA)  Occupation (S)  Occupation (SO)  Occupation (RCM)  \\\n",
       "0               61.9            11.9             12.5               8.5   \n",
       "1               12.5            27.3             31.8              17.0   \n",
       "2               40.5            19.3             21.5              13.2   \n",
       "3               34.7            20.7             26.5               6.6   \n",
       "4               34.9            29.7             17.9               9.1   \n",
       "\n",
       "   Occupation (PT)  Median household income  Homeownership rate  \\\n",
       "0              5.2                 115536.0                77.4   \n",
       "1             11.4                  63887.0                34.3   \n",
       "2              5.5                  59470.0                70.4   \n",
       "3             11.4                  46969.0                43.8   \n",
       "4              8.4                  44741.0                68.5   \n",
       "\n",
       "   Median home price  Median rent  KMeans  Hierarchical  \n",
       "0           540000.0       2663.0       0             3  \n",
       "1            58200.0       1490.0       8             4  \n",
       "2           186500.0       1070.0       5             0  \n",
       "3           200200.0        881.0       8             4  \n",
       "4           219100.0       1100.0       3             4  "
      ]
     },
     "execution_count": 2,
     "metadata": {},
     "output_type": "execute_result"
    }
   ],
   "source": [
    "df = pd.read_csv('labeled.csv')\n",
    "df.head()"
   ]
  },
  {
   "cell_type": "code",
   "execution_count": 3,
   "metadata": {},
   "outputs": [
    {
     "data": {
      "text/plain": [
       "(1967, 15)"
      ]
     },
     "execution_count": 3,
     "metadata": {},
     "output_type": "execute_result"
    }
   ],
   "source": [
    "df.shape"
   ]
  },
  {
   "cell_type": "code",
   "execution_count": 11,
   "metadata": {},
   "outputs": [
    {
     "data": {
      "text/plain": [
       "(1967, 11)"
      ]
     },
     "execution_count": 11,
     "metadata": {},
     "output_type": "execute_result"
    }
   ],
   "source": [
    "vectors = df.drop(columns=['City', 'State', 'KMeans', 'Hierarchical']).to_numpy()\n",
    "vectors.shape"
   ]
  },
  {
   "cell_type": "code",
   "execution_count": 14,
   "metadata": {},
   "outputs": [
    {
     "data": {
      "text/plain": [
       "(1967,)"
      ]
     },
     "execution_count": 14,
     "metadata": {},
     "output_type": "execute_result"
    }
   ],
   "source": [
    "norms = np.linalg.norm(vectors, axis=1)\n",
    "norms.shape"
   ]
  },
  {
   "cell_type": "code",
   "execution_count": 23,
   "metadata": {},
   "outputs": [],
   "source": [
    "combos = combinations(range(0, 1966), 2)"
   ]
  },
  {
   "cell_type": "code",
   "execution_count": 24,
   "metadata": {},
   "outputs": [],
   "source": [
    "cos_matrix = np.empty((1967, 1967))\n",
    "for combo in combos:\n",
    "    i = combo[0]\n",
    "    j = combo[1]\n",
    "    numerator = np.dot(vectors[i], vectors[j])\n",
    "    denominator = norms[i] * norms[j]\n",
    "    cos_sim = numerator / denominator\n",
    "    cos_matrix[i,j] = cos_sim\n",
    "    cos_matrix[j,i] = cos_sim  "
   ]
  },
  {
   "cell_type": "code",
   "execution_count": 26,
   "metadata": {},
   "outputs": [
    {
     "data": {
      "text/plain": [
       "array([1182, 1635,  832, ...,  490,  184,    0], dtype=int64)"
      ]
     },
     "execution_count": 26,
     "metadata": {},
     "output_type": "execute_result"
    }
   ],
   "source": [
    "np.argmax(cos_matrix, axis=1)"
   ]
  },
  {
   "cell_type": "code",
   "execution_count": 29,
   "metadata": {},
   "outputs": [
    {
     "data": {
      "text/plain": [
       "City                       Acres Green, Colorado\n",
       "State                                   Colorado\n",
       "Population                                2709.0\n",
       "Percent employed                            72.7\n",
       "Occupation (MBSA)                           61.9\n",
       "Occupation (S)                              11.9\n",
       "Occupation (SO)                             12.5\n",
       "Occupation (RCM)                             8.5\n",
       "Occupation (PT)                              5.2\n",
       "Median household income                 115536.0\n",
       "Homeownership rate                          77.4\n",
       "Median home price                       540000.0\n",
       "Median rent                               2663.0\n",
       "KMeans                                         0\n",
       "Hierarchical                                   3\n",
       "Name: 0, dtype: object"
      ]
     },
     "execution_count": 29,
     "metadata": {},
     "output_type": "execute_result"
    }
   ],
   "source": [
    "df.iloc[0]"
   ]
  },
  {
   "cell_type": "code",
   "execution_count": 30,
   "metadata": {},
   "outputs": [
    {
     "data": {
      "text/plain": [
       "City                       Montgomery, Texas\n",
       "State                                  Texas\n",
       "Population                            2272.0\n",
       "Percent employed                        62.0\n",
       "Occupation (MBSA)                       42.3\n",
       "Occupation (S)                          19.9\n",
       "Occupation (SO)                         17.4\n",
       "Occupation (RCM)                        14.0\n",
       "Occupation (PT)                          6.4\n",
       "Median household income              78333.0\n",
       "Homeownership rate                      57.5\n",
       "Median home price                   366600.0\n",
       "Median rent                           1342.0\n",
       "KMeans                                     7\n",
       "Hierarchical                               4\n",
       "Name: 1182, dtype: object"
      ]
     },
     "execution_count": 30,
     "metadata": {},
     "output_type": "execute_result"
    }
   ],
   "source": [
    "df.iloc[1182]"
   ]
  },
  {
   "cell_type": "code",
   "execution_count": null,
   "metadata": {},
   "outputs": [],
   "source": []
  }
 ],
 "metadata": {
  "kernelspec": {
   "display_name": "base",
   "language": "python",
   "name": "python3"
  },
  "language_info": {
   "codemirror_mode": {
    "name": "ipython",
    "version": 3
   },
   "file_extension": ".py",
   "mimetype": "text/x-python",
   "name": "python",
   "nbconvert_exporter": "python",
   "pygments_lexer": "ipython3",
   "version": "3.12.4"
  }
 },
 "nbformat": 4,
 "nbformat_minor": 2
}
