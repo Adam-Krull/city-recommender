{
 "cells": [
  {
   "cell_type": "code",
   "execution_count": 1,
   "metadata": {},
   "outputs": [],
   "source": [
    "import numpy as np\n",
    "import pandas as pd\n",
    "\n",
    "from itertools import combinations"
   ]
  },
  {
   "cell_type": "code",
   "execution_count": 5,
   "metadata": {},
   "outputs": [
    {
     "data": {
      "text/html": [
       "<div>\n",
       "<style scoped>\n",
       "    .dataframe tbody tr th:only-of-type {\n",
       "        vertical-align: middle;\n",
       "    }\n",
       "\n",
       "    .dataframe tbody tr th {\n",
       "        vertical-align: top;\n",
       "    }\n",
       "\n",
       "    .dataframe thead th {\n",
       "        text-align: right;\n",
       "    }\n",
       "</style>\n",
       "<table border=\"1\" class=\"dataframe\">\n",
       "  <thead>\n",
       "    <tr style=\"text-align: right;\">\n",
       "      <th></th>\n",
       "      <th>City</th>\n",
       "      <th>State</th>\n",
       "      <th>Population</th>\n",
       "      <th>Percent employed</th>\n",
       "      <th>Occupation (MBSA)</th>\n",
       "      <th>Occupation (S)</th>\n",
       "      <th>Occupation (SO)</th>\n",
       "      <th>Occupation (RCM)</th>\n",
       "      <th>Occupation (PT)</th>\n",
       "      <th>Median household income</th>\n",
       "      <th>Homeownership rate</th>\n",
       "      <th>Median home price</th>\n",
       "      <th>Median rent</th>\n",
       "      <th>KMeans</th>\n",
       "      <th>Hierarchical</th>\n",
       "    </tr>\n",
       "  </thead>\n",
       "  <tbody>\n",
       "    <tr>\n",
       "      <th>0</th>\n",
       "      <td>Acres Green</td>\n",
       "      <td>Colorado</td>\n",
       "      <td>2709.0</td>\n",
       "      <td>72.7</td>\n",
       "      <td>61.9</td>\n",
       "      <td>11.9</td>\n",
       "      <td>12.5</td>\n",
       "      <td>8.5</td>\n",
       "      <td>5.2</td>\n",
       "      <td>115536.0</td>\n",
       "      <td>77.4</td>\n",
       "      <td>540000.0</td>\n",
       "      <td>2663.0</td>\n",
       "      <td>0</td>\n",
       "      <td>3</td>\n",
       "    </tr>\n",
       "    <tr>\n",
       "      <th>1</th>\n",
       "      <td>Aetna Estates</td>\n",
       "      <td>Colorado</td>\n",
       "      <td>1177.0</td>\n",
       "      <td>72.4</td>\n",
       "      <td>12.5</td>\n",
       "      <td>27.3</td>\n",
       "      <td>31.8</td>\n",
       "      <td>17.0</td>\n",
       "      <td>11.4</td>\n",
       "      <td>63887.0</td>\n",
       "      <td>34.3</td>\n",
       "      <td>58200.0</td>\n",
       "      <td>1490.0</td>\n",
       "      <td>8</td>\n",
       "      <td>4</td>\n",
       "    </tr>\n",
       "    <tr>\n",
       "      <th>2</th>\n",
       "      <td>Akron</td>\n",
       "      <td>Colorado</td>\n",
       "      <td>1681.0</td>\n",
       "      <td>55.4</td>\n",
       "      <td>40.5</td>\n",
       "      <td>19.3</td>\n",
       "      <td>21.5</td>\n",
       "      <td>13.2</td>\n",
       "      <td>5.5</td>\n",
       "      <td>59470.0</td>\n",
       "      <td>70.4</td>\n",
       "      <td>186500.0</td>\n",
       "      <td>1070.0</td>\n",
       "      <td>5</td>\n",
       "      <td>0</td>\n",
       "    </tr>\n",
       "    <tr>\n",
       "      <th>3</th>\n",
       "      <td>Alamosa</td>\n",
       "      <td>Colorado</td>\n",
       "      <td>9847.0</td>\n",
       "      <td>61.8</td>\n",
       "      <td>34.7</td>\n",
       "      <td>20.7</td>\n",
       "      <td>26.5</td>\n",
       "      <td>6.6</td>\n",
       "      <td>11.4</td>\n",
       "      <td>46969.0</td>\n",
       "      <td>43.8</td>\n",
       "      <td>200200.0</td>\n",
       "      <td>881.0</td>\n",
       "      <td>8</td>\n",
       "      <td>4</td>\n",
       "    </tr>\n",
       "    <tr>\n",
       "      <th>4</th>\n",
       "      <td>Alamosa East</td>\n",
       "      <td>Colorado</td>\n",
       "      <td>1404.0</td>\n",
       "      <td>68.4</td>\n",
       "      <td>34.9</td>\n",
       "      <td>29.7</td>\n",
       "      <td>17.9</td>\n",
       "      <td>9.1</td>\n",
       "      <td>8.4</td>\n",
       "      <td>44741.0</td>\n",
       "      <td>68.5</td>\n",
       "      <td>219100.0</td>\n",
       "      <td>1100.0</td>\n",
       "      <td>3</td>\n",
       "      <td>4</td>\n",
       "    </tr>\n",
       "  </tbody>\n",
       "</table>\n",
       "</div>"
      ],
      "text/plain": [
       "            City     State  Population  Percent employed  Occupation (MBSA)  \\\n",
       "0    Acres Green  Colorado      2709.0              72.7               61.9   \n",
       "1  Aetna Estates  Colorado      1177.0              72.4               12.5   \n",
       "2          Akron  Colorado      1681.0              55.4               40.5   \n",
       "3        Alamosa  Colorado      9847.0              61.8               34.7   \n",
       "4   Alamosa East  Colorado      1404.0              68.4               34.9   \n",
       "\n",
       "   Occupation (S)  Occupation (SO)  Occupation (RCM)  Occupation (PT)  \\\n",
       "0            11.9             12.5               8.5              5.2   \n",
       "1            27.3             31.8              17.0             11.4   \n",
       "2            19.3             21.5              13.2              5.5   \n",
       "3            20.7             26.5               6.6             11.4   \n",
       "4            29.7             17.9               9.1              8.4   \n",
       "\n",
       "   Median household income  Homeownership rate  Median home price  \\\n",
       "0                 115536.0                77.4           540000.0   \n",
       "1                  63887.0                34.3            58200.0   \n",
       "2                  59470.0                70.4           186500.0   \n",
       "3                  46969.0                43.8           200200.0   \n",
       "4                  44741.0                68.5           219100.0   \n",
       "\n",
       "   Median rent  KMeans  Hierarchical  \n",
       "0       2663.0       0             3  \n",
       "1       1490.0       8             4  \n",
       "2       1070.0       5             0  \n",
       "3        881.0       8             4  \n",
       "4       1100.0       3             4  "
      ]
     },
     "execution_count": 5,
     "metadata": {},
     "output_type": "execute_result"
    }
   ],
   "source": [
    "df = pd.read_csv('labeled.csv', index_col=0)\n",
    "df.head()"
   ]
  },
  {
   "cell_type": "code",
   "execution_count": 6,
   "metadata": {},
   "outputs": [
    {
     "data": {
      "text/plain": [
       "(1967, 15)"
      ]
     },
     "execution_count": 6,
     "metadata": {},
     "output_type": "execute_result"
    }
   ],
   "source": [
    "df.shape"
   ]
  },
  {
   "cell_type": "code",
   "execution_count": 7,
   "metadata": {},
   "outputs": [
    {
     "data": {
      "text/plain": [
       "(1967, 11)"
      ]
     },
     "execution_count": 7,
     "metadata": {},
     "output_type": "execute_result"
    }
   ],
   "source": [
    "vectors = df.drop(columns=['City', 'State', 'KMeans', 'Hierarchical']).to_numpy()\n",
    "vectors.shape"
   ]
  },
  {
   "cell_type": "code",
   "execution_count": 8,
   "metadata": {},
   "outputs": [
    {
     "data": {
      "text/plain": [
       "(1967,)"
      ]
     },
     "execution_count": 8,
     "metadata": {},
     "output_type": "execute_result"
    }
   ],
   "source": [
    "norms = np.linalg.norm(vectors, axis=1)\n",
    "norms.shape"
   ]
  },
  {
   "cell_type": "code",
   "execution_count": 9,
   "metadata": {},
   "outputs": [],
   "source": [
    "combos = combinations(range(0, 1966), 2)"
   ]
  },
  {
   "cell_type": "code",
   "execution_count": 10,
   "metadata": {},
   "outputs": [],
   "source": [
    "cos_matrix = np.empty((1967, 1967))\n",
    "for combo in combos:\n",
    "    i = combo[0]\n",
    "    j = combo[1]\n",
    "    numerator = np.dot(vectors[i], vectors[j])\n",
    "    denominator = norms[i] * norms[j]\n",
    "    cos_sim = numerator / denominator\n",
    "    cos_matrix[i,j] = cos_sim\n",
    "    cos_matrix[j,i] = cos_sim  "
   ]
  },
  {
   "cell_type": "markdown",
   "metadata": {},
   "source": [
    "NOTE TO SELF: I should run this operation three times to get the three most similar cities. Example workflow:\n",
    "- Create array of size (1967, 3)\n",
    "- Run loop once\n",
    "- Get argmax\n",
    "- Save indices to first column of array\n",
    "- Use indices to set those intersections to 0\n",
    "- Rerun loop 2 more times to fill out initial array\n",
    "- Use array to pull up similar cities in streamlit app"
   ]
  },
  {
   "cell_type": "code",
   "execution_count": null,
   "metadata": {},
   "outputs": [
    {
     "data": {
      "text/plain": [
       "array([[1182.,  463.,  334.],\n",
       "       [1635., 1933.,  639.],\n",
       "       [ 832.,  430., 1082.],\n",
       "       [  92., 1547., 1794.],\n",
       "       [  58.,  225.,  424.]])"
      ]
     },
     "execution_count": 25,
     "metadata": {},
     "output_type": "execute_result"
    }
   ],
   "source": [
    "top_3 = np.empty((1967, 3))\n",
    "for i in range(3):\n",
    "    most_similar = np.argmax(cos_matrix, axis=1)\n",
    "    top_3[:,i] = most_similar\n",
    "    #if this is the last pass, don't bother setting more values to 0\n",
    "    if i >= 2:\n",
    "        break\n",
    "    #set all matches to 0 for the next pass through the loop\n",
    "    for j in range(len(most_similar)):\n",
    "        cos_matrix[j, most_similar[j]] = 0\n",
    "\n",
    "#check out the result\n",
    "top_3[:5]"
   ]
  },
  {
   "cell_type": "code",
   "execution_count": 27,
   "metadata": {},
   "outputs": [],
   "source": [
    "#change to int dtype so it can be used to index the dataframe\n",
    "top_3.astype(int, copy=False)\n",
    "#save array so it can be pulled in by streamlit app\n",
    "np.save('top_3.npy', top_3)"
   ]
  },
  {
   "cell_type": "code",
   "execution_count": null,
   "metadata": {},
   "outputs": [],
   "source": []
  }
 ],
 "metadata": {
  "kernelspec": {
   "display_name": "base",
   "language": "python",
   "name": "python3"
  },
  "language_info": {
   "codemirror_mode": {
    "name": "ipython",
    "version": 3
   },
   "file_extension": ".py",
   "mimetype": "text/x-python",
   "name": "python",
   "nbconvert_exporter": "python",
   "pygments_lexer": "ipython3",
   "version": "3.12.4"
  }
 },
 "nbformat": 4,
 "nbformat_minor": 2
}
